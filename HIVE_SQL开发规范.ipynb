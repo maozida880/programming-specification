{
  "cells": [
    {
      "cell_type": "markdown",
      "metadata": {
        "id": "view-in-github",
        "colab_type": "text"
      },
      "source": [
        "<a href=\"https://colab.research.google.com/github/maozida880/programming-specification/blob/main/HIVE_SQL%E5%BC%80%E5%8F%91%E8%A7%84%E8%8C%83.ipynb\" target=\"_parent\"><img src=\"https://colab.research.google.com/assets/colab-badge.svg\" alt=\"Open In Colab\"/></a>"
      ]
    },
    {
      "cell_type": "markdown",
      "metadata": {
        "id": "7AcJ0nz5xvVX"
      },
      "source": [
        "## **捷停车 HIVE SQL开发规范**\n",
        "\n",
        "---\n",
        "\n",
        "**引言：**\n",
        "\n",
        "欢迎来到数据世界！Hive是我们在大数据领域处理和分析海量数据的重要工具。养成良好的SQL编写习惯，不仅能让你的代码逻辑清晰、易于维护，更能极大提升查询效率，节约宝贵的计算资源。\n",
        "\n",
        "本规范旨在为你提供一套清晰、可行、详细的HIVE SQL开发指导，通过丰富的“正反”案例，帮助你快速上手，并培养出卓越的编程习惯。请仔细阅读，并在日常开发中严格遵守。\n",
        "\n",
        "---"
      ]
    },
    {
      "cell_type": "markdown",
      "metadata": {
        "id": "CNXSCZrnxvVY"
      },
      "source": [
        "### **一、 命名规范 (Naming Conventions)**\n",
        "\n",
        "清晰的命名是代码自解释性的第一步。"
      ]
    },
    {
      "cell_type": "markdown",
      "metadata": {
        "id": "uXKjMQjPxvVZ"
      },
      "source": [
        "#### **1.1 表和字段 (Tables and Columns)**\n",
        "\n",
        "* **规则:**\n",
        "    * 全部使用小写字母。\n",
        "    * 单词之间使用下划线 `_` 分隔。\n",
        "    * 表名应清晰体现其业务含义、数据来源和更新频率（如适用）。推荐结构：`[业务域]_[业务主题]_[数据粒度]_[分区信息]`。\n",
        "    * 字段名应准确描述其内容，避免使用无意义的缩写。\n",
        "    * 禁止使用SQL关键字作为表名或字段名 (如 `select`, `from`, `where` 等)。\n",
        "\n",
        "* **示例:**\n",
        "\n",
        "| 规范类型 | 👍 正确示例 (Good) | 👎 错误示例 (Bad) |\n",
        "| :--- | :--- | :--- |\n",
        "| **表名** | `dwd_user_behavior_log_di` (数据仓库明细层-用户行为日志-天分区) | `UserBehavior`, `tbl_user_log`, `log` |\n",
        "| **字段名** | `user_id`, `order_amount`, `session_start_time` | `userid`, `orderAmount`, `time` |"
      ]
    },
    {
      "cell_type": "markdown",
      "metadata": {
        "id": "HD9MWNF_xvVa"
      },
      "source": [
        "#### **1.2 临时表/视图 (Temporary Tables / Views)**\n",
        "\n",
        "* **规则:** 临时表或中间查询结果的CTE (Common Table Expression) 命名应以 `tmp_` 或 `with_` 作为前缀，并简要说明其用途。\n",
        "\n",
        "* **示例:**"
      ]
    },
    {
      "cell_type": "code",
      "execution_count": null,
      "metadata": {
        "collapsed": true,
        "id": "x_CG2DdixvVb"
      },
      "outputs": [],
      "source": [
        "-- 👍 正确示例 (Good)\n",
        "WITH tmp_user_paid_orders AS (\n",
        "    SELECT user_id, order_id\n",
        "    FROM dws_trade_user_order_1d\n",
        "    WHERE dt = '2025-07-30' AND order_status = 'PAID'\n",
        ")\n",
        "SELECT ..."
      ]
    },
    {
      "cell_type": "code",
      "execution_count": null,
      "metadata": {
        "collapsed": true,
        "id": "8l13HMAUxvVc"
      },
      "outputs": [],
      "source": [
        "-- 👎 错误示例 (Bad)\n",
        "WITH t1 AS (\n",
        "    SELECT user_id, order_id\n",
        "    FROM dws_trade_user_order_1d\n",
        "    WHERE dt = '2025-07-30' AND order_status = 'PAID'\n",
        ")\n",
        "SELECT ..."
      ]
    },
    {
      "cell_type": "markdown",
      "metadata": {
        "id": "prBsHXp2xvVd"
      },
      "source": [
        "---\n",
        "\n",
        "### **二、 代码风格与格式 (Code Style and Formatting)**\n",
        "\n",
        "统一的风格让代码更易读、更专业。"
      ]
    },
    {
      "cell_type": "markdown",
      "metadata": {
        "id": "GbF2qkNwxvVe"
      },
      "source": [
        "#### **2.1 缩进与换行 (Indentation and Line Breaks)**\n",
        "\n",
        "* **规则:**\n",
        "    * 使用2个或4个空格进行缩进，不要使用Tab键。\n",
        "    * `SELECT`, `FROM`, `WHERE`, `GROUP BY`, `HAVING`, `ORDER BY`, `JOIN` 等主关键字独占一行并左对齐。\n",
        "    * `SELECT` 后的字段，每个字段独占一行并对齐。\n",
        "    * `JOIN` 条件和 `WHERE` 条件，每个条件独占一行，并使用 `AND/OR` 开头。\n",
        "    * 复杂的逻辑表达式应使用括号 `()` 来明确优先级。\n",
        "\n",
        "* **示例:**"
      ]
    },
    {
      "cell_type": "code",
      "execution_count": null,
      "metadata": {
        "collapsed": true,
        "id": "aPstm2J5xvVe"
      },
      "outputs": [],
      "source": [
        "-- 👍 正确示例 (Good)\n",
        "SELECT\n",
        "    a.user_id,\n",
        "    a.user_name,\n",
        "    b.order_count\n",
        "FROM\n",
        "    dwd_user_info_df a\n",
        "JOIN\n",
        "    (\n",
        "        SELECT\n",
        "            user_id,\n",
        "            COUNT(order_id) AS order_count\n",
        "        FROM\n",
        "            dwd_order_info_di\n",
        "        WHERE\n",
        "            dt = '2025-07-30'\n",
        "            AND order_status = 'COMPLETED'\n",
        "        GROUP BY\n",
        "            user_id\n",
        "    ) b\n",
        "ON\n",
        "    a.user_id = b.user_id\n",
        "WHERE\n",
        "    a.register_date >= '2025-01-01'\n",
        "    AND b.order_count > 5;"
      ]
    },
    {
      "cell_type": "code",
      "execution_count": null,
      "metadata": {
        "collapsed": true,
        "id": "x54ysBJMxvVf"
      },
      "outputs": [],
      "source": [
        "-- 👎 错误示例 (Bad)\n",
        "select a.user_id, a.user_name, b.order_count from dwd_user_info_df a join (select user_id, count(order_id) as order_count from dwd_order_info_di where dt='2025-07-30' and order_status='COMPLETED' group by user_id) b on a.user_id = b.user_id where a.register_date>='2025-01-01' and b.order_count>5;"
      ]
    },
    {
      "cell_type": "markdown",
      "metadata": {
        "id": "mLZTT-srxvVf"
      },
      "source": [
        "#### **2.2 大小写 (Capitalization)**\n",
        "\n",
        "* **规则:**\n",
        "    * 所有SQL关键字大写 (e.g., `SELECT`, `FROM`, `WHERE`, `JOIN`, `AS`)。\n",
        "    * 所有函数名大写 (e.g., `COUNT()`, `SUM()`, `CAST()`, `COALESCE()`)。\n",
        "    * 表名、字段名和别名小写。\n",
        "\n",
        "* **示例:**"
      ]
    },
    {
      "cell_type": "code",
      "execution_count": null,
      "metadata": {
        "collapsed": true,
        "id": "hrZBVd_LxvVg"
      },
      "outputs": [],
      "source": [
        "-- 👍 正确示例 (Good)\n",
        "SELECT\n",
        "    user_id,\n",
        "    UPPER(user_name) AS user_name_upper,\n",
        "    COUNT(DISTINCT order_id) AS distinct_order_count\n",
        "FROM\n",
        "    ods_order_log\n",
        "WHERE\n",
        "    dt = '2025-07-30';"
      ]
    },
    {
      "cell_type": "code",
      "execution_count": null,
      "metadata": {
        "collapsed": true,
        "id": "rUx4hbrHxvVg"
      },
      "outputs": [],
      "source": [
        "-- 👎 错误示例 (Bad)\n",
        "select\n",
        "    userid,\n",
        "    upper(username) as UserNameUpper,\n",
        "    count(distinct OrderID) as distinct_order_count\n",
        "from\n",
        "    ods_order_log\n",
        "where\n",
        "    dt = '2025-07-30';"
      ]
    },
    {
      "cell_type": "markdown",
      "metadata": {
        "id": "5bcq_nQhxvVg"
      },
      "source": [
        "---\n",
        "\n",
        "### **三、 注释规范 (Commenting)**\n",
        "\n",
        "好的注释是代码的“说明书”。"
      ]
    },
    {
      "cell_type": "markdown",
      "metadata": {
        "id": "fxnCSAFHxvVg"
      },
      "source": [
        "* **规则:**\n",
        "    * 每个SQL脚本的开头，必须包含作者、创建日期、修改历史和脚本功能的说明。\n",
        "    * 对于复杂的业务逻辑、关键的计算步骤或临时的“魔法数字”，必须在其上方或右方添加注释。\n",
        "    * 单行注释使用 `--`，多行注释使用 `/* ... */`。\n",
        "\n",
        "* **示例:**"
      ]
    },
    {
      "cell_type": "code",
      "execution_count": null,
      "metadata": {
        "collapsed": true,
        "id": "kS5cLjsuxvVh"
      },
      "outputs": [],
      "source": [
        "/*\n",
        " * @Author: your_name\n",
        " * @Date: 2025-08-01\n",
        " * @Description: 计算每日活跃且付费的用户列表及其订单总额。\n",
        " * @Modification History:\n",
        " * 2025-08-02, your_name, 修正了订单金额为0的过滤条件。\n",
        "*/\n",
        "\n",
        "-- 临时表：筛选出昨日的付费用户\n",
        "WITH tmp_paid_users AS (\n",
        "    SELECT\n",
        "        user_id\n",
        "    FROM\n",
        "        dwd_payment_log_di\n",
        "    WHERE\n",
        "        dt = '2025-07-31'\n",
        "        AND payment_amount > 0 -- 过滤掉金额为0的异常支付记录\n",
        ")\n",
        "\n",
        "SELECT\n",
        "    dau.user_id,\n",
        "    SUM(o.order_amount) AS total_order_amount\n",
        "FROM\n",
        "    dws_user_dau_1d dau -- Daily Active Users\n",
        "JOIN\n",
        "    dwd_order_info_di o ON dau.user_id = o.user_id AND o.dt = '2025-07-31'\n",
        "JOIN\n",
        "    tmp_paid_users pu ON dau.user_id = pu.user_id\n",
        "WHERE\n",
        "    dau.dt = '2025-07-31'\n",
        "GROUP BY\n",
        "    dau.user_id;"
      ]
    },
    {
      "cell_type": "markdown",
      "metadata": {
        "id": "_voQsazdxvVh"
      },
      "source": [
        "---\n",
        "\n",
        "### **四、 性能与优化 (Performance and Optimization)**\n",
        "\n",
        "这是HIVE SQL开发的核心，直接影响成本和效率。"
      ]
    },
    {
      "cell_type": "markdown",
      "metadata": {
        "id": "YxgvlGZtxvVh"
      },
      "source": [
        "#### **4.1 数据过滤与分区裁剪 (Data Filtering and Partition Pruning)**\n",
        "\n",
        "* **核心思想:** **尽早、尽可能地过滤数据。**\n",
        "* **规则:**\n",
        "    * `WHERE` 子句中必须包含分区字段的过滤条件，且分区字段过滤条件应写在最前面。这是HIVE性能优化的第一生命线。\n",
        "    * 对于多层分区的表，尽量提供所有层级的分区条件。\n",
        "    * 避免在分区字段上使用函数，这会导致分区裁剪失效。\n",
        "\n",
        "* **示例:**"
      ]
    },
    {
      "cell_type": "code",
      "execution_count": null,
      "metadata": {
        "collapsed": true,
        "id": "QofRTcvhxvVh"
      },
      "outputs": [],
      "source": [
        "-- 👍 正确示例 (Good)\n",
        "SELECT\n",
        "    user_id,\n",
        "    page_id\n",
        "FROM\n",
        "    dwd_page_view_log_hi\n",
        "WHERE\n",
        "    dt = '2025-07-30' -- 分区裁剪生效\n",
        "    AND hour = '10'\n",
        "    AND event_type = 'click';"
      ]
    },
    {
      "cell_type": "code",
      "execution_count": null,
      "metadata": {
        "collapsed": true,
        "id": "CmVZuxPsxvVi"
      },
      "outputs": [],
      "source": [
        "-- 👎 错误示例 (Bad) - 分区裁剪失效\n",
        "SELECT\n",
        "    user_id,\n",
        "    page_id\n",
        "FROM\n",
        "    dwd_page_view_log_hi\n",
        "WHERE\n",
        "    -- 在分区字段上使用函数，将导致全表扫描！\n",
        "    SUBSTR(dt, 1, 7) = '2025-07'\n",
        "    AND event_type = 'click';"
      ]
    },
    {
      "cell_type": "markdown",
      "metadata": {
        "id": "fS3q7XfyxvVi"
      },
      "source": [
        "**改进方法：**"
      ]
    },
    {
      "cell_type": "code",
      "execution_count": null,
      "metadata": {
        "collapsed": true,
        "id": "1lruG6eLxvVi"
      },
      "outputs": [],
      "source": [
        "-- 对上一个错误示例的正确改写\n",
        "SELECT\n",
        "    user_id,\n",
        "    page_id\n",
        "FROM\n",
        "    dwd_page_view_log_hi\n",
        "WHERE\n",
        "    dt >= '2025-07-01' AND dt <= '2025-07-31' -- 使用范围查询\n",
        "    AND event_type = 'click';"
      ]
    },
    {
      "cell_type": "markdown",
      "metadata": {
        "id": "1lZvQGjjxvVj"
      },
      "source": [
        "#### **4.2 JOIN 操作优化**\n",
        "\n",
        "* **核心思想:** **用小表驱动大表，并善用JOIN策略。**\n",
        "* **规则:**\n",
        "    * **`JOIN` 顺序:** 在`FROM`子句中，将小表（经过`WHERE`过滤后行数最少的表）放在`JOIN`的左边。虽然Hive优化器会尝试重排，但这是一个好习惯。\n",
        "    * **`LEFT JOIN` vs `INNER JOIN`:** 如果业务逻辑允许，优先使用`INNER JOIN`，因为它可以过滤掉更多不匹配的数据。\n",
        "    * **`MapJoin`:** 对于一个大表和一个或多个小表的`JOIN`，使用`MapJoin`可以极大地提升性能。小表会被加载到内存中，避免了Reduce阶段的数据shuffle。通常可以设置`set hive.auto.convert.join=true;`让Hive自动转换，但有时需要手动指定。\n",
        "    * **`JOIN`条件的字段类型:** 确保`JOIN`两边关联的字段类型完全一致，避免隐式类型转换带来的性能损耗。\n",
        "    * **避免在`ON`子句中进行复杂计算:** `ON`子句中的计算（如函数、case when）会降低效率，应尽量提前在子查询中处理好。\n",
        "\n",
        "* **示例 (MapJoin):**"
      ]
    },
    {
      "cell_type": "code",
      "execution_count": null,
      "metadata": {
        "collapsed": true,
        "id": "ShXa7XaQxvVj"
      },
      "outputs": [],
      "source": [
        "-- 👍 正确示例 (Good) - 手动指定MapJoin\n",
        "SELECT /*+ MAPJOIN(b) */\n",
        "    a.order_id,\n",
        "    a.order_amount,\n",
        "    b.user_name\n",
        "FROM\n",
        "    dwd_order_info_di a\n",
        "JOIN\n",
        "    dwd_user_info_df b ON a.user_id = b.user_id -- 假设b是小表\n",
        "WHERE\n",
        "    a.dt = '2025-07-30';"
      ]
    },
    {
      "cell_type": "markdown",
      "metadata": {
        "id": "Po9rwiTzxvVj"
      },
      "source": [
        "* **示例 (ON子句):**"
      ]
    },
    {
      "cell_type": "code",
      "execution_count": null,
      "metadata": {
        "collapsed": true,
        "id": "_2phHYPtxvVj"
      },
      "outputs": [],
      "source": [
        "-- 👎 错误示例 (Bad)\n",
        "SELECT *\n",
        "FROM order_table o\n",
        "JOIN user_table u\n",
        "  ON SUBSTR(o.order_time, 1, 10) = u.register_date; -- ON子句中存在函数"
      ]
    },
    {
      "cell_type": "code",
      "execution_count": null,
      "metadata": {
        "collapsed": true,
        "id": "XhFd4RJ_xvVk"
      },
      "outputs": [],
      "source": [
        "-- 👍 正确示例 (Good)\n",
        "WITH tmp_order AS (\n",
        "    SELECT\n",
        "        *,\n",
        "        SUBSTR(order_time, 1, 10) AS order_date\n",
        "    FROM\n",
        "        order_table\n",
        ")\n",
        "SELECT *\n",
        "FROM tmp_order o\n",
        "JOIN user_table u\n",
        "  ON o.order_date = u.register_date;"
      ]
    },
    {
      "cell_type": "markdown",
      "metadata": {
        "id": "Jp8XGQKvxvVk"
      },
      "source": [
        "#### **4.3 `GROUP BY` 与 `COUNT(DISTINCT)` 优化**\n",
        "\n",
        "* **核心思想:** **减少数据倾斜，避免单点瓶颈。**\n",
        "* **规则:**\n",
        "    * **数据倾斜:** 如果`GROUP BY`的某个key值过多，会导致数据倾斜。可以尝试开启Hive的倾斜优化`set hive.groupby.skewindata=true;`，它会通过两个MapReduce Job来处理。\n",
        "    * **`COUNT(DISTINCT)`:** 单个`COUNT(DISTINCT)`会使用一个Reducer，效率低下。当需要对多个字段进行去重计数时，应使用多个`GROUP BY`子查询再合并，或者使用`SUM(CASE WHEN ...)`的技巧。\n",
        "\n",
        "* **示例 (`COUNT(DISTINCT)`):**"
      ]
    },
    {
      "cell_type": "code",
      "execution_count": null,
      "metadata": {
        "collapsed": true,
        "id": "jKbgDNBPxvVk"
      },
      "outputs": [],
      "source": [
        "-- 👎 错误示例 (Bad) - 效率低下\n",
        "SELECT\n",
        "    dt,\n",
        "    COUNT(DISTINCT user_id),\n",
        "    COUNT(DISTINCT session_id)\n",
        "FROM\n",
        "    dwd_page_view_log_di\n",
        "WHERE\n",
        "    dt = '2025-07-30'\n",
        "GROUP BY\n",
        "    dt;"
      ]
    },
    {
      "cell_type": "code",
      "execution_count": null,
      "metadata": {
        "collapsed": true,
        "id": "n4Qj6Oa1xvVk"
      },
      "outputs": [],
      "source": [
        "-- 👍 正确示例 (Good) - 转换为子查询/UNION ALL\n",
        "SELECT dt, COUNT(user_id), COUNT(session_id) FROM (\n",
        "    SELECT dt, user_id, null as session_id FROM dwd_page_view_log_di WHERE dt = '2025-07-30' GROUP BY dt, user_id\n",
        "    UNION ALL\n",
        "    SELECT dt, null as user_id, session_id FROM dwd_page_view_log_di WHERE dt = '2025-07-30' GROUP BY dt, session_id\n",
        ") tmp GROUP BY dt;"
      ]
    },
    {
      "cell_type": "markdown",
      "metadata": {
        "id": "Hpioc3h_xvVk"
      },
      "source": [
        "#### **4.4 `ORDER BY` vs `SORT BY` vs `DISTRIBUTE BY` vs `CLUSTER BY`**\n",
        "\n",
        "* **`ORDER BY`:** 全局排序，所有数据进入一个Reducer，当数据量大时，**极易造成性能瓶颈甚至OOM**。**请谨慎使用！**\n",
        "* **`SORT BY`:** 局部排序，只保证在每个Reducer内部有序。通常和`DISTRIBUTE BY`联用。\n",
        "* **`DISTRIBUTE BY`:** 控制数据如何分区到Reducer。根据指定的字段哈希值将数据分发到不同的Reducer。\n",
        "* **`CLUSTER BY`:** `DISTRIBUTE BY` 和 `SORT BY` 的结合，但排序是升序的。\n",
        "\n",
        "* **规则:**\n",
        "    * 如果只是想取Top N，应使用`ORDER BY ... LIMIT N`，Hive会对此进行优化，或者使用窗口函数。\n",
        "    * 如果需要对最终输出文件进行排序，但不需要全局严格有序，使用`SORT BY`。\n",
        "    * 当需要控制数据分发并进行局部排序时，使用`DISTRIBUTE BY ... SORT BY`。\n",
        "\n",
        "* **示例:**"
      ]
    },
    {
      "cell_type": "code",
      "execution_count": null,
      "metadata": {
        "collapsed": true,
        "id": "QV0VHEswxvVl"
      },
      "outputs": [],
      "source": [
        "-- 需求：找出每个城市销售额最高的10个用户\n",
        "-- 👍 正确示例 (Good) - 使用窗口函数，避免全局ORDER BY\n",
        "SELECT\n",
        "    city,\n",
        "    user_id,\n",
        "    total_amount\n",
        "FROM\n",
        "    (\n",
        "        SELECT\n",
        "            city,\n",
        "            user_id,\n",
        "            total_amount,\n",
        "            ROW_NUMBER() OVER(PARTITION BY city ORDER BY total_amount DESC) AS rn\n",
        "        FROM\n",
        "            dws_user_consumption_1d\n",
        "        WHERE\n",
        "            dt = '2025-07-30'\n",
        "    ) t\n",
        "WHERE\n",
        "    rn <= 10;"
      ]
    },
    {
      "cell_type": "code",
      "execution_count": null,
      "metadata": {
        "collapsed": true,
        "id": "0DdGfg8NxvVl"
      },
      "outputs": [],
      "source": [
        "-- 👎 错误示例 (Bad) - 极可能导致失败\n",
        "SELECT * FROM huge_table ORDER BY column_a;"
      ]
    },
    {
      "cell_type": "markdown",
      "metadata": {
        "id": "AeNq8I2qxvVl"
      },
      "source": [
        "#### **4.5 其他建议**\n",
        "\n",
        "* **`SELECT *` 禁令:** **严禁在生产环境的SQL中使用 `SELECT *`**。明确写出需要的字段，可以减少数据读取量，并且在表结构变更时代码依然健壮。\n",
        "* **使用`UNION ALL`代替`UNION`:** `UNION`会去重，涉及到全局排序和比较，非常耗时。如果确认数据没有重复，或允许重复，务必使用`UNION ALL`。\n",
        "* **合理使用数据类型:**\n",
        "    * 用`BIGINT`存储用户ID等长整型，而不是`STRING`。\n",
        "    * 用`DECIMAL`存储金额，避免`DOUBLE`或`FLOAT`的精度问题。\n",
        "    * 日期使用标准的`DATE`或`TIMESTAMP`类型。\n",
        "* **利用向量化查询:** 设置`set hive.vectorized.execution.enabled = true;`可以一次性处理1024行数据，大幅提升扫描、聚合、过滤和join的性能。"
      ]
    }
  ],
  "metadata": {
    "kernelspec": {
      "display_name": "Python 3",
      "language": "python",
      "name": "python3"
    },
    "language_info": {
      "codemirror_mode": {
        "name": "sql",
        "version": 3
      },
      "file_extension": ".py",
      "mimetype": "text/x-python",
      "name": "python",
      "nbconvert_exporter": "python",
      "pygments_lexer": "ipython3",
      "version": "3.11.4"
    },
    "colab": {
      "provenance": [],
      "include_colab_link": true
    }
  },
  "nbformat": 4,
  "nbformat_minor": 0
}
