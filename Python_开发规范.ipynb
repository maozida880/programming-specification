{
  "cells": [
    {
      "cell_type": "markdown",
      "metadata": {
        "id": "view-in-github",
        "colab_type": "text"
      },
      "source": [
        "<a href=\"https://colab.research.google.com/github/maozida880/programming-specification/blob/main/Python_%E5%BC%80%E5%8F%91%E8%A7%84%E8%8C%83.ipynb\" target=\"_parent\"><img src=\"https://colab.research.google.com/assets/colab-badge.svg\" alt=\"Open In Colab\"/></a>"
      ]
    },
    {
      "cell_type": "markdown",
      "source": [
        "\n",
        "\n",
        "## **捷停车公司 Python 开发规范 (新人培训版)**\n",
        "\n",
        "### **引言**\n",
        "\n",
        "欢迎加入捷停车！在捷停车，Python 在后端服务、数据科学、自动化运维等领域扮演着至关重要的角色。代码的质量直接决定了产品的稳定性和团队的开发效率。\n",
        "\n",
        "本规范不仅仅是一系列规则，更是一种专业的开发哲学。遵循它，你的代码将变得更易读、更易维护、更健壮，从而让你和你的团队都能更高效地工作。**记住：代码的生命周期中，被阅读的次数远超被编写的次数。**\n",
        "\n",
        "-----\n",
        "\n",
        "### **一、代码风格与格式 (PEP 8)**\n",
        "\n",
        "我们遵循 [PEP 8 -- Style Guide for Python Code](https://www.python.org/dev/peps/pep-0008/) 作为代码风格的黄金标准。以下是其中最核心、必须遵守的几点。\n",
        "\n",
        "**强烈建议：** 安装并配置代码格式化工具 `Black` 和 `isort`，它们可以自动帮你处理大部分格式问题。\n",
        "\n",
        "#### **1.1 命名规范 (Naming Conventions)**\n",
        "\n",
        "清晰的命名是代码自解释能力的基础。\n",
        "\n",
        "  * **变量、函数、方法:** `snake_case` (小写字母 + 下划线)\n",
        "\n",
        "      * **推荐:** `user_name`, `calculate_shipping_cost()`\n",
        "      * **禁止:** `UserName`, `calculateShippingCost()`\n",
        "\n",
        "  * **类 (Class):** `PascalCase` (或称 `CapWords`)\n",
        "\n",
        "      * **推荐:** `class UserProfile:`, `class AccountBalance:`\n",
        "      * **禁止:** `class user_profile:`, `class userprofile:`\n",
        "\n",
        "  * **常量 (Constant):** `ALL_CAPS` (全大写 + 下划线)\n",
        "\n",
        "      * **推荐:** `MAX_OVERFLOW_CONNECTIONS = 10`\n",
        "      * **禁止:** `max_overflow_connections = 10`\n",
        "\n",
        "  * **模块与包 (Module & Package):** `short_lowercase` (简短、全小写)\n",
        "\n",
        "      * **推荐:** `import utils.http_client`\n",
        "      * **禁止:** `import Utils.HttpClient`\n",
        "\n",
        "#### **1.2 缩进与换行**\n",
        "\n",
        "  * **缩进:** 使用 **4个空格** 作为一级缩进。**禁止** 使用 Tab 键。\n",
        "\n",
        "  * **行长度:** 每行代码建议不超过 **88个字符** (Black 默认) 或 99个字符。对于过长的代码行，应在操作符后、逗号后或括号内进行换行。\n",
        "\n",
        "  * **示例:**"
      ],
      "metadata": {
        "id": "T4b8RE5houck"
      }
    },
    {
      "cell_type": "code",
      "source": [
        "# 推荐的换行方式\n",
        "    def long_function_name(\n",
        "        var_one, var_two,\n",
        "        var_three, var_four\n",
        "    ):\n",
        "        print(var_one)\n",
        "\n",
        "    income = (\n",
        "        gross_wages\n",
        "        + taxable_interest\n",
        "        + (dividends - qualified_dividends)\n",
        "        - ira_deduction\n",
        "        - student_loan_interest\n",
        "    )"
      ],
      "outputs": [],
      "execution_count": null,
      "metadata": {
        "id": "c4tA0I1goucq"
      }
    },
    {
      "cell_type": "markdown",
      "source": [
        "#### **1.3 导包规范 (Imports)**\n",
        "\n",
        "  * **顺序:** 导包应分组，并按以下顺序排列，组间空一行：\n",
        "\n",
        "    1.  标准库 (`os`, `sys`, `datetime`)\n",
        "    2.  第三方库 (`requests`, `pandas`)\n",
        "    3.  本地应用/项目库 (`from my_project import api`)\n",
        "\n",
        "  * **格式:** 每个 `import` 只导入一个模块。\n",
        "\n",
        "  * **示例:**"
      ],
      "metadata": {
        "id": "sdw9rCgRoucs"
      }
    },
    {
      "cell_type": "code",
      "source": [
        "# 不推荐\n",
        "    import os, sys, requests, my_project\n",
        "\n",
        "    # 推荐 (使用 isort 工具可自动格式化)\n",
        "    import os\n",
        "    import sys\n",
        "    from datetime import datetime\n",
        "\n",
        "    import requests\n",
        "    import pandas as pd\n",
        "\n",
        "    from my_project.models import User\n",
        "    from my_project.utils import get_db_connection"
      ],
      "outputs": [],
      "execution_count": null,
      "metadata": {
        "id": "fIFdn0Fooucs"
      }
    },
    {
      "cell_type": "markdown",
      "source": [
        "#### **1.4 空格的使用**\n",
        "\n",
        "在二元操作符两侧、逗号后、`#` 注释后都应有一个空格。"
      ],
      "metadata": {
        "id": "Q4wFtdlZoucs"
      }
    },
    {
      "cell_type": "code",
      "source": [
        "# 推荐\n",
        "x = 1\n",
        "y = x * 2 + 1\n",
        "my_list = [1, 2, 3]\n",
        "print(x, y)  # 打印 x 和 y 的值\n",
        "\n",
        "# 不推荐\n",
        "x=1\n",
        "y=x*2+1\n",
        "my_list=[1,2,3]\n",
        "print(x,y)#打印x和y的值"
      ],
      "outputs": [],
      "execution_count": null,
      "metadata": {
        "id": "mZ-cqGHSouct"
      }
    },
    {
      "cell_type": "markdown",
      "source": [
        "-----\n",
        "\n",
        "### **二、注释与文档字符串 (Comments & Docstrings)**\n",
        "\n",
        "注释解释“为什么”，文档解释“做什么”。\n",
        "\n",
        "#### **2.1 行内/块注释**\n",
        "\n",
        "用于解释复杂算法、业务逻辑或代码的“陷阱”。"
      ],
      "metadata": {
        "id": "yjo3JzKUouct"
      }
    },
    {
      "cell_type": "code",
      "source": [
        "# 这是一个块注释，解释下面这段复杂逻辑的目的。\n",
        "# 我们需要先计算用户的信用分，然后再决定是否批准贷款。\n",
        "# 信用分的计算参考了央行 xyz 模型。\n",
        "credit_score = calculate_score(user_id)\n",
        "\n",
        "# 这是一个行内注释\n",
        "# 为了防止除零错误，这里设置一个默认值\n",
        "if divisor == 0:\n",
        "    divisor = 1"
      ],
      "outputs": [],
      "execution_count": null,
      "metadata": {
        "id": "4zreAWBDoucu"
      }
    },
    {
      "cell_type": "markdown",
      "source": [
        "#### **2.2 文档字符串 (Docstrings - PEP 257)**\n",
        "\n",
        "**所有** 的公共模块、类、函数和方法都 **必须** 有 Docstring。我们推荐使用 **Google 风格** 的 Docstring。\n",
        "\n",
        "  * **格式:**\n",
        "\n",
        "      * 单行总结。\n",
        "      * 空一行。\n",
        "      * (可选) 更详细的描述。\n",
        "      * `Args:`: 描述每个参数，包括名称、类型和说明。\n",
        "      * `Returns:`: 描述返回值，包括类型和说明。\n",
        "      * `Raises:`: (可选) 描述可能抛出的异常。\n",
        "\n",
        "  * **示例:**"
      ],
      "metadata": {
        "id": "-_Ib7MsJoucu"
      }
    },
    {
      "cell_type": "code",
      "source": [
        "def fetch_user_data(user_id: int, include_profile: bool = False) -> dict:\n",
        "        \"\"\"根据用户ID获取用户数据。\n",
        "\n",
        "        如果用户不存在，将抛出异常。可以指定是否包含详细的个人资料。\n",
        "\n",
        "        Args:\n",
        "            user_id (int): 用户的唯一ID。\n",
        "            include_profile (bool): 是否在返回结果中包含个人资料。默认为 False。\n",
        "\n",
        "        Returns:\n",
        "            dict: 包含用户基本信息的字典。如果 include_profile 为 True，\n",
        "                  还会包含 \"profile\" 键。\n",
        "\n",
        "        Raises:\n",
        "            ValueError: 如果 user_id 不存在。\n",
        "        \"\"\"\n",
        "        # ... 函数实现 ...\n",
        "        if not user_exists(user_id):\n",
        "            raise ValueError(f\"User with ID {user_id} not found.\")\n",
        "\n",
        "        # ... more code ..."
      ],
      "outputs": [],
      "execution_count": null,
      "metadata": {
        "id": "NyuBu8Kpoucv"
      }
    },
    {
      "cell_type": "markdown",
      "source": [
        "**好处:** 良好的 Docstring 不仅方便人阅读，还可以被IDE、文档生成工具（如 Sphinx）自动提取，形成项目文档。\n",
        "\n",
        "-----\n",
        "\n",
        "### **三、编程最佳实践 (Best Practices)**\n",
        "\n",
        "#### **3.1 明确与简洁 (Clarity & Simplicity)**\n",
        "\n",
        "  * **一个函数只做一件事 (Single Responsibility Principle):** 函数应该短小精悍，功能单一。\n",
        "\n",
        "  * **避免魔术数字 (Magic Numbers):** 使用常量代替硬编码在代码里的数字或字符串。"
      ],
      "metadata": {
        "id": "zAbwiJbmoucv"
      }
    },
    {
      "cell_type": "code",
      "source": [
        "# 不推荐\n",
        "    if user.status == 2:  # 2 是什么意思？\n",
        "        # ...\n",
        "\n",
        "    # 推荐\n",
        "    STATUS_APPROVED = 2\n",
        "    if user.status == STATUS_APPROVED:\n",
        "        # ..."
      ],
      "outputs": [],
      "execution_count": null,
      "metadata": {
        "id": "W4nqvoYuoucw"
      }
    },
    {
      "cell_type": "markdown",
      "source": [
        "#### **3.2 错误处理 (Error Handling)**\n",
        "\n",
        "  * **使用 `try...except` 处理可能发生的异常**，如文件操作、网络请求、数据库访问。\n",
        "\n",
        "  * **`except` 要具体，不要裸奔:** 永远不要使用裸的 `except:`，它会捕获所有异常，包括 `SystemExit` 和 `KeyboardInterrupt`，隐藏真正的错误。"
      ],
      "metadata": {
        "id": "G8ov24xUoucw"
      }
    },
    {
      "cell_type": "code",
      "source": [
        "# 不推荐\n",
        "    try:\n",
        "        response = requests.get(\"https://api.example.com/data\")\n",
        "        data = response.json()\n",
        "    except: # 捕获了所有异常，无法区分是网络问题还是JSON解析问题\n",
        "        print(\"An error occurred.\")\n",
        "\n",
        "    # 推荐\n",
        "    try:\n",
        "        response = requests.get(\"https://api.example.com/data\")\n",
        "        response.raise_for_status()  # 检查HTTP错误\n",
        "        data = response.json()\n",
        "    except requests.exceptions.RequestException as e:\n",
        "        print(f\"Network error: {e}\")\n",
        "    except json.JSONDecodeError as e:\n",
        "        print(f\"Failed to parse JSON: {e}\")"
      ],
      "outputs": [],
      "execution_count": null,
      "metadata": {
        "id": "kfN_3HrBoucw"
      }
    },
    {
      "cell_type": "markdown",
      "source": [
        "#### **3.3 上下文管理器 (`with` 语句)**\n",
        "\n",
        "对于文件、数据库连接、锁等需要“获取”和“释放”的资源，**必须** 使用 `with` 语句，它能保证资源被正确关闭，即使在发生异常时也是如此。"
      ],
      "metadata": {
        "id": "7bdp5qZjoucx"
      }
    },
    {
      "cell_type": "code",
      "source": [
        "# 推荐\n",
        "with open(\"my_file.txt\", \"w\") as f:\n",
        "    f.write(\"Hello, world!\")\n",
        "# 文件在这里会自动关闭\n",
        "\n",
        "# 不推荐\n",
        "f = open(\"my_file.txt\", \"w\")\n",
        "f.write(\"Hello, world!\")\n",
        "f.close() # 如果上一行代码出错，这一行将不会被执行"
      ],
      "outputs": [],
      "execution_count": null,
      "metadata": {
        "id": "o0YjMQWuoucx"
      }
    },
    {
      "cell_type": "markdown",
      "source": [
        "#### **3.4 善用数据结构**\n",
        "\n",
        "  * **列表推导式 (List Comprehensions):** 优先使用列表推导式来创建列表，它比 `for` 循环更简洁、通常也更快。"
      ],
      "metadata": {
        "id": "VO26aXY7oucx"
      }
    },
    {
      "cell_type": "code",
      "source": [
        "# 推荐\n",
        "    squares = [x**2 for x in range(10) if x % 2 == 0]\n",
        "\n",
        "    # 不推荐\n",
        "    squares = []\n",
        "    for x in range(10):\n",
        "        if x % 2 == 0:\n",
        "            squares.append(x**2)"
      ],
      "outputs": [],
      "execution_count": null,
      "metadata": {
        "id": "HceY_6UXoucx"
      }
    },
    {
      "cell_type": "markdown",
      "source": [
        "* **选择正确的数据结构:**\n",
        "\n",
        "      * `list`: 有序集合，元素可重复。\n",
        "      * `tuple`: 不可变的 `list`，用作函数返回值、字典的键等。\n",
        "      * `dict`: 键值对集合，用于高效的查找 (O(1))。\n",
        "      * `set`: 无序集合，元素唯一。用于去重和成员资格测试。\n",
        "\n",
        "-----\n",
        "\n",
        "### **四、项目结构与环境管理**\n",
        "\n",
        "#### **4.1 虚拟环境 (Virtual Environments)**\n",
        "\n",
        "**所有** 项目都 **必须** 在其独立的虚拟环境中开发。这可以隔离不同项目的依赖，避免版本冲突。\n",
        "\n",
        "  * **创建:** `python -m venv venv`\n",
        "  * **激活 (macOS/Linux):** `source venv/bin/activate`\n",
        "  * **激活 (Windows):** `.\\venv\\Scripts\\activate`\n",
        "\n",
        "#### **4.2 依赖管理**\n",
        "\n",
        "  * 项目的所有依赖都必须记录在 `requirements.txt` 文件中。\n",
        "  * **生成:** `pip freeze > requirements.txt`\n",
        "  * **安装:** `pip install -r requirements.txt`\n",
        "\n",
        "#### **4.3 项目目录结构**\n",
        "\n",
        "一个典型的Python项目结构如下：\n",
        "\n",
        "```\n",
        "my_awesome_project/\n",
        "├── .gitignore          # Git忽略文件配置\n",
        "├── README.md           # 项目说明文档\n",
        "├── requirements.txt    # 项目依赖\n",
        "├── venv/               # 虚拟环境目录 (应被 .gitignore 忽略)\n",
        "├── my_awesome_project/   # 源代码包\n",
        "│   ├── __init__.py\n",
        "│   ├── main.py\n",
        "│   ├── api/\n",
        "│   │   ├── __init__.py\n",
        "│   │   └── user.py\n",
        "│   └── utils/\n",
        "│       ├── __init__.py\n",
        "│       └── db.py\n",
        "└── tests/              # 测试代码\n",
        "    ├── __init__.py\n",
        "    └── test_user_api.py\n",
        "```\n",
        "\n",
        "-----\n",
        "\n",
        "### **五、测试 (Testing)**\n",
        "\n",
        "“没有经过测试的代码都是不可信的。”\n",
        "\n",
        "  * **单元测试:** 新人应学习使用 `pytest` 或 `unittest` 框架为自己编写的核心函数和类编写单元测试。\n",
        "  * **习惯:** 养成编写测试的习惯，这会大大提高你的代码质量和重构时的信心。\n",
        "\n",
        "<!-- end list -->"
      ],
      "metadata": {
        "id": "Kg6klaGOoucy"
      }
    },
    {
      "cell_type": "code",
      "source": [
        "# tests/test_math.py\n",
        "from my_awesome_project.utils import math_tools\n",
        "\n",
        "def test_add_positive_numbers():\n",
        "    \"\"\"测试两个正数相加\"\"\"\n",
        "    assert math_tools.add(2, 3) == 5\n",
        "\n",
        "def test_add_negative_numbers():\n",
        "    \"\"\"测试两个负数相加\"\"\"\n",
        "    assert math_tools.add(-2, -3) == -5"
      ],
      "outputs": [],
      "execution_count": null,
      "metadata": {
        "id": "FqGOOXi7oucy"
      }
    },
    {
      "cell_type": "markdown",
      "source": [
        "-----\n",
        "\n",
        "### **六、版本控制 (Git)**\n",
        "\n",
        "  * **提交信息 (Commit Message):** 提交信息必须清晰、有意义。推荐使用 `类型: 描述` 的格式。\n",
        "      * `feat: Add user registration API` (新功能)\n",
        "      * `fix: Correct password validation logic` (修复Bug)\n",
        "      * `docs: Update README with setup instructions` (文档修改)\n",
        "      * `refactor: Improve database connection handling` (代码重构)\n",
        "  * **分支策略:** 遵循团队的分支策略，通常是在自己的 `feature/xxx` 分支上开发，完成后提交 Merge Request (或 Pull Request)。\n",
        "\n",
        "-----\n",
        "\n",
        "### **结语**\n",
        "\n",
        "编写符合规范的、高质量的代码，是对自己、对团队、对产品负责的表现。一开始可能会觉得有些束缚，但当你习惯之后，会发现它能让你免于许多低级错误和后期维护的痛苦，从而将更多精力投入到创造性的工作中。\n",
        "\n",
        "**从你的第一行代码开始，就以专业的标准要求自己！**"
      ],
      "metadata": {
        "id": "ipkOnU2Xoucy"
      }
    }
  ],
  "metadata": {
    "colab": {
      "provenance": [],
      "include_colab_link": true
    },
    "kernelspec": {
      "display_name": "Python 3",
      "name": "python3"
    }
  },
  "nbformat": 4,
  "nbformat_minor": 0
}